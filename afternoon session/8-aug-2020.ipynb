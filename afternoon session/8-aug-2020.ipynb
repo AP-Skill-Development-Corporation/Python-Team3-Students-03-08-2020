{
 "cells": [
  {
   "cell_type": "code",
   "execution_count": null,
   "metadata": {},
   "outputs": [],
   "source": [
    "# Print String methods using 3 ways \n",
    "# dir(predefinddunction)\n",
    "# dir(string variable)\n",
    "# dir(String value)"
   ]
  },
  {
   "cell_type": "code",
   "execution_count": 1,
   "metadata": {},
   "outputs": [
    {
     "name": "stdout",
     "output_type": "stream",
     "text": [
      "['__add__', '__class__', '__contains__', '__delattr__', '__dir__', '__doc__', '__eq__', '__format__', '__ge__', '__getattribute__', '__getitem__', '__getnewargs__', '__gt__', '__hash__', '__init__', '__init_subclass__', '__iter__', '__le__', '__len__', '__lt__', '__mod__', '__mul__', '__ne__', '__new__', '__reduce__', '__reduce_ex__', '__repr__', '__rmod__', '__rmul__', '__setattr__', '__sizeof__', '__str__', '__subclasshook__', 'capitalize', 'casefold', 'center', 'count', 'encode', 'endswith', 'expandtabs', 'find', 'format', 'format_map', 'index', 'isalnum', 'isalpha', 'isascii', 'isdecimal', 'isdigit', 'isidentifier', 'islower', 'isnumeric', 'isprintable', 'isspace', 'istitle', 'isupper', 'join', 'ljust', 'lower', 'lstrip', 'maketrans', 'partition', 'replace', 'rfind', 'rindex', 'rjust', 'rpartition', 'rsplit', 'rstrip', 'split', 'splitlines', 'startswith', 'strip', 'swapcase', 'title', 'translate', 'upper', 'zfill']\n"
     ]
    }
   ],
   "source": [
    "print(dir(str))"
   ]
  },
  {
   "cell_type": "code",
   "execution_count": 2,
   "metadata": {},
   "outputs": [
    {
     "name": "stdout",
     "output_type": "stream",
     "text": [
      "['__add__', '__class__', '__contains__', '__delattr__', '__dir__', '__doc__', '__eq__', '__format__', '__ge__', '__getattribute__', '__getitem__', '__getnewargs__', '__gt__', '__hash__', '__init__', '__init_subclass__', '__iter__', '__le__', '__len__', '__lt__', '__mod__', '__mul__', '__ne__', '__new__', '__reduce__', '__reduce_ex__', '__repr__', '__rmod__', '__rmul__', '__setattr__', '__sizeof__', '__str__', '__subclasshook__', 'capitalize', 'casefold', 'center', 'count', 'encode', 'endswith', 'expandtabs', 'find', 'format', 'format_map', 'index', 'isalnum', 'isalpha', 'isascii', 'isdecimal', 'isdigit', 'isidentifier', 'islower', 'isnumeric', 'isprintable', 'isspace', 'istitle', 'isupper', 'join', 'ljust', 'lower', 'lstrip', 'maketrans', 'partition', 'replace', 'rfind', 'rindex', 'rjust', 'rpartition', 'rsplit', 'rstrip', 'split', 'splitlines', 'startswith', 'strip', 'swapcase', 'title', 'translate', 'upper', 'zfill']\n"
     ]
    }
   ],
   "source": [
    "a = \"string\"\n",
    "print(dir(a))"
   ]
  },
  {
   "cell_type": "code",
   "execution_count": 3,
   "metadata": {},
   "outputs": [
    {
     "name": "stdout",
     "output_type": "stream",
     "text": [
      "['__add__', '__class__', '__contains__', '__delattr__', '__dir__', '__doc__', '__eq__', '__format__', '__ge__', '__getattribute__', '__getitem__', '__getnewargs__', '__gt__', '__hash__', '__init__', '__init_subclass__', '__iter__', '__le__', '__len__', '__lt__', '__mod__', '__mul__', '__ne__', '__new__', '__reduce__', '__reduce_ex__', '__repr__', '__rmod__', '__rmul__', '__setattr__', '__sizeof__', '__str__', '__subclasshook__', 'capitalize', 'casefold', 'center', 'count', 'encode', 'endswith', 'expandtabs', 'find', 'format', 'format_map', 'index', 'isalnum', 'isalpha', 'isascii', 'isdecimal', 'isdigit', 'isidentifier', 'islower', 'isnumeric', 'isprintable', 'isspace', 'istitle', 'isupper', 'join', 'ljust', 'lower', 'lstrip', 'maketrans', 'partition', 'replace', 'rfind', 'rindex', 'rjust', 'rpartition', 'rsplit', 'rstrip', 'split', 'splitlines', 'startswith', 'strip', 'swapcase', 'title', 'translate', 'upper', 'zfill']\n"
     ]
    }
   ],
   "source": [
    "print(dir('abcd'))"
   ]
  },
  {
   "cell_type": "markdown",
   "metadata": {},
   "source": [
    "## String Methods"
   ]
  },
  {
   "cell_type": "code",
   "execution_count": null,
   "metadata": {},
   "outputs": [],
   "source": [
    "# Method Synatx:-\n",
    "# string_variable.methodname(arg1,arg2,...)\n",
    "# String_value.methodname(arg1,arg2,...)"
   ]
  },
  {
   "cell_type": "code",
   "execution_count": 5,
   "metadata": {},
   "outputs": [
    {
     "name": "stdout",
     "output_type": "stream",
     "text": [
      "Python\n",
      "Python programming\n"
     ]
    }
   ],
   "source": [
    "# capitalize()\n",
    "temp = \"python\"\n",
    "print(temp.capitalize())\n",
    "print(\"python programming\".capitalize())"
   ]
  },
  {
   "cell_type": "code",
   "execution_count": 6,
   "metadata": {},
   "outputs": [
    {
     "name": "stdout",
     "output_type": "stream",
     "text": [
      "python\n"
     ]
    }
   ],
   "source": [
    "print(temp)"
   ]
  },
  {
   "cell_type": "code",
   "execution_count": 10,
   "metadata": {},
   "outputs": [
    {
     "name": "stdout",
     "output_type": "stream",
     "text": [
      "                      python                      \n",
      "$$$$$$$$$$$$$$$$$python$$$$$$$$$$$$$$$$$\n",
      "111111111111python111111111111\n"
     ]
    }
   ],
   "source": [
    "# center(length,'single character')\n",
    "print(temp.center(50)) # 50-6=44[22,22]\n",
    "print(temp.center(40,'$'))\n",
    "print(temp.center(30,'1'))"
   ]
  },
  {
   "cell_type": "code",
   "execution_count": 12,
   "metadata": {},
   "outputs": [
    {
     "name": "stdout",
     "output_type": "stream",
     "text": [
      "python\n",
      "hello\n"
     ]
    }
   ],
   "source": [
    "# lower()\n",
    "print(temp.lower())\n",
    "print(\"HELLO\".lower())"
   ]
  },
  {
   "cell_type": "code",
   "execution_count": 14,
   "metadata": {},
   "outputs": [
    {
     "name": "stdout",
     "output_type": "stream",
     "text": [
      "PYTHON\n",
      "PYTHON\n"
     ]
    }
   ],
   "source": [
    "# upper()\n",
    "print(temp.upper())\n",
    "print(temp.lower().upper())"
   ]
  },
  {
   "cell_type": "code",
   "execution_count": null,
   "metadata": {},
   "outputs": [],
   "source": [
    "# String is a Immutable Datatype (Index Updation/Deletion not possible)"
   ]
  },
  {
   "cell_type": "code",
   "execution_count": 20,
   "metadata": {},
   "outputs": [
    {
     "name": "stdout",
     "output_type": "stream",
     "text": [
      "True\n",
      "False\n",
      "False\n",
      "False\n",
      "True\n",
      "True\n"
     ]
    }
   ],
   "source": [
    "# islower() --> check the string is a lowercase or not [O/P:- True/False]\n",
    "print(temp.islower())\n",
    "print(temp.upper().islower())\n",
    "print('Python'.islower())\n",
    "print('Python'[0].islower())\n",
    "print('pYTHON'[0].islower())\n",
    "print('Python'[1:].islower())"
   ]
  },
  {
   "cell_type": "code",
   "execution_count": 23,
   "metadata": {},
   "outputs": [
    {
     "name": "stdout",
     "output_type": "stream",
     "text": [
      "False\n",
      "False\n"
     ]
    }
   ],
   "source": [
    "# isupper()\n",
    "print(temp.isupper())\n",
    "print(temp.lower().isupper())"
   ]
  },
  {
   "cell_type": "code",
   "execution_count": 25,
   "metadata": {},
   "outputs": [
    {
     "name": "stdout",
     "output_type": "stream",
     "text": [
      "Python\n",
      "Python Programming\n"
     ]
    }
   ],
   "source": [
    "# title()\n",
    "print(temp.title())\n",
    "print(\"python programming\".title())"
   ]
  },
  {
   "cell_type": "code",
   "execution_count": 27,
   "metadata": {},
   "outputs": [
    {
     "name": "stdout",
     "output_type": "stream",
     "text": [
      "False\n",
      "True\n"
     ]
    }
   ],
   "source": [
    "# istitle()\n",
    "print(temp.istitle())\n",
    "print(temp.title().istitle())"
   ]
  },
  {
   "cell_type": "code",
   "execution_count": 33,
   "metadata": {},
   "outputs": [
    {
     "name": "stdout",
     "output_type": "stream",
     "text": [
      "0\n",
      "5\n",
      "-1\n",
      "3\n",
      "14\n"
     ]
    }
   ],
   "source": [
    "# find()\n",
    "print(temp.find('p'))\n",
    "print(temp.find('n'))\n",
    "print(temp.find('z'))\n",
    "print(\"This is a class\".find('s'))\n",
    "\n",
    "# rfind()\n",
    "print(\"This is a class\".rfind('s'))"
   ]
  },
  {
   "cell_type": "code",
   "execution_count": 38,
   "metadata": {},
   "outputs": [
    {
     "name": "stdout",
     "output_type": "stream",
     "text": [
      "['This', 'is', 'a', 'Python', 'Class']\n",
      "['Thi', ' i', ' a Python Cla', '', '']\n",
      "['Thi', ' i', ' a Python Class']\n",
      "['This', 'is', 'a', 'Python', 'Class']\n",
      "['Thi', ' i', ' a Python Cla', '', '']\n",
      "['This is a Python Cla', '', '']\n"
     ]
    }
   ],
   "source": [
    "# split('string',no. of splits) [O/P:- list]\n",
    "print(\"This is a Python Class\".split())\n",
    "print(\"This is a Python Class\".split('s'))\n",
    "print(\"This is a Python Class\".split('s',2))\n",
    "\n",
    "# rsplit()\n",
    "print(\"This is a Python Class\".rsplit())\n",
    "print(\"This is a Python Class\".rsplit('s'))\n",
    "print(\"This is a Python Class\".rsplit('s',2))"
   ]
  },
  {
   "cell_type": "code",
   "execution_count": 44,
   "metadata": {},
   "outputs": [
    {
     "name": "stdout",
     "output_type": "stream",
     "text": [
      "hello       hi      \n",
      "      hello       hi\n",
      "hi\n"
     ]
    }
   ],
   "source": [
    "# strip() # remove spaces starting/ending\n",
    "# 3 types\n",
    "# lstrip()  # left strip\n",
    "# rstrip()  # right strip\n",
    "# strip()   # left & right strip\n",
    "\n",
    "print(\"      hello       hi      \".lstrip())\n",
    "print(\"      hello       hi      \".rstrip())\n",
    "\"      hello       hi      \".strip()\n",
    "print(\"      hello       hi      \"[11:].strip())"
   ]
  },
  {
   "cell_type": "code",
   "execution_count": 50,
   "metadata": {},
   "outputs": [
    {
     "name": "stdout",
     "output_type": "stream",
     "text": [
      "pabcdyabcdtabcdhabcdoabcdn\n",
      "a\n",
      "axyzb\n",
      "python\n"
     ]
    }
   ],
   "source": [
    "# join()\n",
    "print(\"abcd\".join(temp))\n",
    "print(\"xyz\".join('a'))\n",
    "print(\"xyz\".join('ab'))\n",
    "print(\"\".join('python'))"
   ]
  },
  {
   "cell_type": "code",
   "execution_count": 51,
   "metadata": {
    "scrolled": true
   },
   "outputs": [
    {
     "name": "stdout",
     "output_type": "stream",
     "text": [
      "['', 'this is a ', 'multiline', 'string']\n"
     ]
    }
   ],
   "source": [
    "# splitlines\n",
    "mul =\"\"\"\n",
    "this is a \n",
    "multiline\n",
    "string\"\"\"\n",
    "print(mul.splitlines())"
   ]
  },
  {
   "cell_type": "code",
   "execution_count": 53,
   "metadata": {},
   "outputs": [
    {
     "name": "stdout",
     "output_type": "stream",
     "text": [
      "True\n",
      "False\n"
     ]
    }
   ],
   "source": [
    "# isdigit() \n",
    "print(\"123456\".isdigit())\n",
    "print(\"123456a\".isdigit())"
   ]
  },
  {
   "cell_type": "code",
   "execution_count": 55,
   "metadata": {},
   "outputs": [
    {
     "name": "stdout",
     "output_type": "stream",
     "text": [
      "True\n",
      "False\n"
     ]
    }
   ],
   "source": [
    "# isspace()\n",
    "print('       '.isspace())\n",
    "print('       a'.isspace())"
   ]
  },
  {
   "cell_type": "code",
   "execution_count": 58,
   "metadata": {},
   "outputs": [
    {
     "name": "stdout",
     "output_type": "stream",
     "text": [
      "pyhhon\n",
      "This is a python class\n"
     ]
    }
   ],
   "source": [
    "# replace()\n",
    "print('python'.replace('t','h'))\n",
    "print('This is a python class'.replace('ls','check me'))"
   ]
  },
  {
   "cell_type": "code",
   "execution_count": 75,
   "metadata": {},
   "outputs": [
    {
     "name": "stdout",
     "output_type": "stream",
     "text": [
      "This is a django class\n",
      "This is a flask class\n",
      "Enter Class Name: flask\n",
      "This is a flask class\n",
      "Latha got 85% in final Exams...\n"
     ]
    }
   ],
   "source": [
    "# format()\n",
    "print(\"This is a {} class\".format('django'))\n",
    "print(\"This is a {} class\".format('flask'))\n",
    "#print(\"This is a {0} class\".format(input(\"Enter Class Name: \")))\n",
    "print(\"{} got {}% in final Exams...\".format('Latha',85))"
   ]
  },
  {
   "cell_type": "code",
   "execution_count": null,
   "metadata": {},
   "outputs": [],
   "source": [
    "# Function Synatx:\n",
    "#functionname(Arg1,Arg2,..)"
   ]
  },
  {
   "cell_type": "code",
   "execution_count": null,
   "metadata": {},
   "outputs": [],
   "source": [
    "# Find String Length\n",
    "print(len(\"Python Class\"))\n",
    "print(len(temp))"
   ]
  },
  {
   "cell_type": "code",
   "execution_count": null,
   "metadata": {},
   "outputs": [],
   "source": [
    "# min()\n",
    "print(min(\"programming\"))\n",
    "print(min(\"PYTHONprogramming\"))\n",
    "print(min(\"123python\"))"
   ]
  },
  {
   "cell_type": "code",
   "execution_count": 82,
   "metadata": {},
   "outputs": [
    {
     "name": "stdout",
     "output_type": "stream",
     "text": [
      "r\n",
      "r\n",
      "y\n"
     ]
    }
   ],
   "source": [
    "# max()\n",
    "print(max(\"programming\"))\n",
    "print(max(\"PYTHONprogramming\"))\n",
    "print(max(\"123python\"))"
   ]
  },
  {
   "cell_type": "markdown",
   "metadata": {},
   "source": [
    " # TASKS\n",
    "- 1) Sum of Digits using Dynamic String(String Input from User)\n",
    "- 2) Sum of Numbers using Dynamic String\n",
    "- 3) print follwing counts using Dynamic String\n",
    "    - No. chracters Count\n",
    "    - No. of Lines\n",
    "    - No. of Upper Case\n",
    "    - No. of Lower Case\n",
    "    - No. of Spaces\n",
    "    - No. of words\n",
    "    - No. of Digits\n",
    "    "
   ]
  },
  {
   "cell_type": "code",
   "execution_count": null,
   "metadata": {},
   "outputs": [],
   "source": [
    "\"ab1cd x2yz s6df2nslf sd345fsfsf s2dfsdfsfsfs\"\n",
    "Sum of Digits = 1+2+6+2+3+4+5+2\n",
    "Sum of Numbers = 1+2+6+2+345+2"
   ]
  }
 ],
 "metadata": {
  "kernelspec": {
   "display_name": "Python 3",
   "language": "python",
   "name": "python3"
  },
  "language_info": {
   "codemirror_mode": {
    "name": "ipython",
    "version": 3
   },
   "file_extension": ".py",
   "mimetype": "text/x-python",
   "name": "python",
   "nbconvert_exporter": "python",
   "pygments_lexer": "ipython3",
   "version": "3.8.3"
  }
 },
 "nbformat": 4,
 "nbformat_minor": 4
}
