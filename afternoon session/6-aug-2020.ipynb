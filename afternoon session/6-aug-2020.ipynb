{
 "cells": [
  {
   "cell_type": "markdown",
   "metadata": {},
   "source": [
    "## Jumping Statments\n",
    "- Break\n",
    "- Continue\n",
    "- Pass"
   ]
  },
  {
   "cell_type": "code",
   "execution_count": 1,
   "metadata": {},
   "outputs": [
    {
     "name": "stdout",
     "output_type": "stream",
     "text": [
      "1\n",
      "2\n",
      "3\n",
      "4\n",
      "5\n"
     ]
    }
   ],
   "source": [
    "# Break (Terminate loop)\n",
    "# print 1 to 5 numbers using for loop \n",
    "\n",
    "for i in range(1,10+1):\n",
    "    if i==6:\n",
    "        break # terminate loop(for/while)\n",
    "    print(i)"
   ]
  },
  {
   "cell_type": "code",
   "execution_count": 2,
   "metadata": {
    "collapsed": true
   },
   "outputs": [
    {
     "name": "stdout",
     "output_type": "stream",
     "text": [
      "Enter N value= 9\n",
      "1\n",
      "2\n",
      "3\n",
      "4\n",
      "5\n",
      "6\n",
      "7\n",
      "8\n",
      "9\n"
     ]
    }
   ],
   "source": [
    "# print numbers upto Dynamic interger with range of 1 to 20 using \"Break\" Statment\n",
    "a=input(\"Enter N value= \")\n",
    "n=int(a)\n",
    "for j in range(1,21): # {\n",
    "    if j == n+1:\n",
    "        break\n",
    "    print(j)    "
   ]
  },
  {
   "cell_type": "code",
   "execution_count": 3,
   "metadata": {
    "collapsed": true
   },
   "outputs": [
    {
     "name": "stdout",
     "output_type": "stream",
     "text": [
      "52\n",
      "54\n",
      "56\n",
      "58\n",
      "60\n",
      "62\n",
      "64\n",
      "66\n",
      "68\n",
      "70\n"
     ]
    }
   ],
   "source": [
    "# Continue\n",
    "# print Even Numbers B/w 51 to 71 using Continue\n",
    "for temp in range(51,71+1):\n",
    "    if temp%2!=0:\n",
    "        continue # Skip the Iteration\n",
    "    print(temp)"
   ]
  },
  {
   "cell_type": "code",
   "execution_count": 4,
   "metadata": {},
   "outputs": [
    {
     "name": "stdout",
     "output_type": "stream",
     "text": [
      "p\n",
      "y\n",
      "t\n",
      "Hello I am Pass...\n",
      "h\n",
      "o\n",
      "n\n"
     ]
    }
   ],
   "source": [
    "# pass \n",
    "# print \"python\" when 'h' is occured print message \"hello I am Pass\"\n",
    "for char in \"python\":\n",
    "    if char == 'h':\n",
    "        pass\n",
    "        print(\"Hello I am Pass...\")\n",
    "    print(char)    "
   ]
  },
  {
   "cell_type": "code",
   "execution_count": 9,
   "metadata": {},
   "outputs": [],
   "source": [
    "i=9\n",
    "if i%2==0:\n",
    "    pass # null Operation"
   ]
  },
  {
   "cell_type": "markdown",
   "metadata": {},
   "source": [
    "## Functions\n",
    "### Types Functions\n",
    "- User Defind Functions\n",
    "- Buitin Functions"
   ]
  },
  {
   "cell_type": "code",
   "execution_count": 11,
   "metadata": {},
   "outputs": [],
   "source": [
    "# Predefind Functiona Examples\n",
    "# print,int,input,str,float,type,help,range,len,dir"
   ]
  },
  {
   "cell_type": "markdown",
   "metadata": {},
   "source": [
    "### User Defind Functions"
   ]
  },
  {
   "cell_type": "markdown",
   "metadata": {},
   "source": [
    "Syntax for User Defind Function \n",
    "'''\n",
    "def functionname(arg1,arg2,...):\n",
    "    statment1\n",
    "    statment2\n",
    "'''"
   ]
  },
  {
   "cell_type": "code",
   "execution_count": 12,
   "metadata": {},
   "outputs": [],
   "source": [
    "# Function with no Arg & no return value\n",
    "# Function with no arg & with return value\n",
    "# Function with arg & no return value\n",
    "# Function with arg & return value"
   ]
  },
  {
   "cell_type": "code",
   "execution_count": 15,
   "metadata": {},
   "outputs": [
    {
     "name": "stdout",
     "output_type": "stream",
     "text": [
      "5 + 8 = 13\n"
     ]
    }
   ],
   "source": [
    "# Ex-1\n",
    "def addition(): # Declaration Part\n",
    "    a=5\n",
    "    b=8\n",
    "    c=a+b\n",
    "    print(a ,\"+\",b ,'=',c)\n",
    "\n",
    "addition() # Function Calling"
   ]
  },
  {
   "cell_type": "code",
   "execution_count": 19,
   "metadata": {},
   "outputs": [
    {
     "name": "stdout",
     "output_type": "stream",
     "text": [
      "30\n"
     ]
    }
   ],
   "source": [
    "# Ex-2\n",
    "def multiplication():\n",
    "    x=5;y=6\n",
    "    return x*y\n",
    "\n",
    "#print(multiplication())\n",
    "result=multiplication()\n",
    "print(result)"
   ]
  },
  {
   "cell_type": "code",
   "execution_count": 22,
   "metadata": {},
   "outputs": [
    {
     "name": "stdout",
     "output_type": "stream",
     "text": [
      "5\n"
     ]
    }
   ],
   "source": [
    "# Ex-3\n",
    "def subtraction(a,b):\n",
    "    print(a-b)\n",
    "\n",
    "subtraction(8,3)"
   ]
  },
  {
   "cell_type": "code",
   "execution_count": 24,
   "metadata": {},
   "outputs": [
    {
     "name": "stdout",
     "output_type": "stream",
     "text": [
      "Enter X= 85\n",
      "Enter Y= 2\n",
      "42.5\n"
     ]
    }
   ],
   "source": [
    "# Ex-4\n",
    "def division(x,y):\n",
    "    return x/y\n",
    "\n",
    "print(division(int(input(\"Enter X= \")),int(input(\"Enter Y= \"))))"
   ]
  },
  {
   "cell_type": "code",
   "execution_count": 25,
   "metadata": {},
   "outputs": [],
   "source": [
    "# Different types of Arguments in Functions\n",
    "# Required Arg\n",
    "# Keyword Arg\n",
    "# Default Arg\n",
    "# Arbitary / Varible Length Arguments"
   ]
  },
  {
   "cell_type": "code",
   "execution_count": 29,
   "metadata": {},
   "outputs": [
    {
     "name": "stdout",
     "output_type": "stream",
     "text": [
      "5 1\n"
     ]
    }
   ],
   "source": [
    "# Required Arguments\n",
    "def printme(a,b):\n",
    "    \"\"\"This prints a passed string into this Function\"\"\"\n",
    "    print(a,b)\n",
    "    \n",
    "printme(5,1)"
   ]
  },
  {
   "cell_type": "code",
   "execution_count": 33,
   "metadata": {},
   "outputs": [
    {
     "name": "stdout",
     "output_type": "stream",
     "text": [
      "first one second one\n",
      "first one second one\n",
      "check me This is y value\n"
     ]
    }
   ],
   "source": [
    "# Keyword Arg\n",
    "def abcd(x,y):\n",
    "    print(x,y)\n",
    "\n",
    "abcd(x=\"first one\",y=\"second one\")\n",
    "abcd(y=\"second one\",x=\"first one\")\n",
    "#abcd(y=\"second one\",\"check me\") # Returns Arg Postion Error\n",
    "abcd(\"check me\",y=\"This is y value\")"
   ]
  },
  {
   "cell_type": "code",
   "execution_count": null,
   "metadata": {},
   "outputs": [],
   "source": []
  }
 ],
 "metadata": {
  "kernelspec": {
   "display_name": "Python 3",
   "language": "python",
   "name": "python3"
  },
  "language_info": {
   "codemirror_mode": {
    "name": "ipython",
    "version": 3
   },
   "file_extension": ".py",
   "mimetype": "text/x-python",
   "name": "python",
   "nbconvert_exporter": "python",
   "pygments_lexer": "ipython3",
   "version": "3.8.3"
  }
 },
 "nbformat": 4,
 "nbformat_minor": 4
}
