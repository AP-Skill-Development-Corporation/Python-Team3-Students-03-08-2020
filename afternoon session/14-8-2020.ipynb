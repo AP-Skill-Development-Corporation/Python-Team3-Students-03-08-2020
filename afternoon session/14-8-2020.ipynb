{
 "cells": [
  {
   "cell_type": "code",
   "execution_count": 6,
   "metadata": {},
   "outputs": [
    {
     "name": "stdout",
     "output_type": "stream",
     "text": [
      "Done\n"
     ]
    }
   ],
   "source": [
    "# Writelines() #I/P:- list \n",
    "names = ['narayana\\n','sana\\n','ravi\\n','kishore\\n']\n",
    "temp_file = open('names_info.txt','w')\n",
    "temp_file.writelines(names)\n",
    "temp_file.close()\n",
    "print(\"Done\")"
   ]
  },
  {
   "cell_type": "code",
   "execution_count": 9,
   "metadata": {},
   "outputs": [
    {
     "name": "stdout",
     "output_type": "stream",
     "text": [
      "Enter Name: bhanu\n",
      "Completed\n"
     ]
    }
   ],
   "source": [
    "# Append  Mode('a')\n",
    "file1 = open('names_info.txt','a')\n",
    "file1.write(input(\"Enter Name: \")+\"\\n\")\n",
    "file1.close()\n",
    "print(\"Completed\")"
   ]
  },
  {
   "cell_type": "markdown",
   "metadata": {},
   "source": [
    "## Regular Expression"
   ]
  },
  {
   "cell_type": "code",
   "execution_count": 10,
   "metadata": {},
   "outputs": [],
   "source": [
    "import re"
   ]
  },
  {
   "cell_type": "code",
   "execution_count": 11,
   "metadata": {},
   "outputs": [
    {
     "name": "stdout",
     "output_type": "stream",
     "text": [
      "<module 're' from 'C:\\\\ProgramData\\\\Anaconda3\\\\lib\\\\re.py'>\n"
     ]
    }
   ],
   "source": [
    "print(re)"
   ]
  },
  {
   "cell_type": "code",
   "execution_count": 12,
   "metadata": {},
   "outputs": [],
   "source": [
    "import re as regular_expression"
   ]
  },
  {
   "cell_type": "code",
   "execution_count": 13,
   "metadata": {},
   "outputs": [
    {
     "name": "stdout",
     "output_type": "stream",
     "text": [
      "<module 're' from 'C:\\\\ProgramData\\\\Anaconda3\\\\lib\\\\re.py'>\n"
     ]
    }
   ],
   "source": [
    "print(regular_expression)"
   ]
  },
  {
   "cell_type": "code",
   "execution_count": 15,
   "metadata": {},
   "outputs": [
    {
     "name": "stdout",
     "output_type": "stream",
     "text": [
      "['A', 'ASCII', 'DEBUG', 'DOTALL', 'I', 'IGNORECASE', 'L', 'LOCALE', 'M', 'MULTILINE', 'Match', 'Pattern', 'RegexFlag', 'S', 'Scanner', 'T', 'TEMPLATE', 'U', 'UNICODE', 'VERBOSE', 'X', '_MAXCACHE', '__all__', '__builtins__', '__cached__', '__doc__', '__file__', '__loader__', '__name__', '__package__', '__spec__', '__version__', '_cache', '_compile', '_compile_repl', '_expand', '_locale', '_pickle', '_special_chars_map', '_subx', 'compile', 'copyreg', 'enum', 'error', 'escape', 'findall', 'finditer', 'fullmatch', 'functools', 'match', 'purge', 'search', 'split', 'sre_compile', 'sre_parse', 'sub', 'subn', 'template']\n"
     ]
    }
   ],
   "source": [
    "print(dir(re))"
   ]
  },
  {
   "cell_type": "code",
   "execution_count": 19,
   "metadata": {},
   "outputs": [
    {
     "data": {
      "text/plain": [
       "<re.Match object; span=(0, 1), match='a'>"
      ]
     },
     "execution_count": 19,
     "metadata": {},
     "output_type": "execute_result"
    }
   ],
   "source": [
    "# match(pattern,string)\n",
    "# find a in string\n",
    "regular_expression.match(\"[a]\",\"abcd\") # when character matched o/p will displayed"
   ]
  },
  {
   "cell_type": "markdown",
   "metadata": {},
   "source": [
    "### match(\"pattern\",\"string\")\n",
    "- Matching the pattern from string with left side"
   ]
  },
  {
   "cell_type": "code",
   "execution_count": 20,
   "metadata": {},
   "outputs": [],
   "source": [
    "re.match(\"[z]\",\"abcd\")"
   ]
  },
  {
   "cell_type": "code",
   "execution_count": 21,
   "metadata": {},
   "outputs": [],
   "source": [
    "re.match(\"[c]\",'abcd')"
   ]
  },
  {
   "cell_type": "markdown",
   "metadata": {},
   "source": [
    "### search(\"pattern\",\"string\")\n",
    "- maching charcters in any place of string"
   ]
  },
  {
   "cell_type": "code",
   "execution_count": 25,
   "metadata": {},
   "outputs": [
    {
     "data": {
      "text/plain": [
       "<re.Match object; span=(2, 3), match='c'>"
      ]
     },
     "execution_count": 25,
     "metadata": {},
     "output_type": "execute_result"
    }
   ],
   "source": [
    "# search(\"pattern\",'string')\n",
    "re.search(\"[c]\",'abccccd')"
   ]
  },
  {
   "cell_type": "code",
   "execution_count": 26,
   "metadata": {},
   "outputs": [
    {
     "data": {
      "text/plain": [
       "<re.Match object; span=(2, 8), match='cccccc'>"
      ]
     },
     "execution_count": 26,
     "metadata": {},
     "output_type": "execute_result"
    }
   ],
   "source": [
    "re.search(\"[c]+\",'abccccccdcccccz')"
   ]
  },
  {
   "cell_type": "markdown",
   "metadata": {},
   "source": [
    "### findall(\"pattern\",\"string\")\n",
    "- all matched characters are displayed in the format of list"
   ]
  },
  {
   "cell_type": "code",
   "execution_count": 27,
   "metadata": {},
   "outputs": [
    {
     "data": {
      "text/plain": [
       "['cccccc', 'ccccc']"
      ]
     },
     "execution_count": 27,
     "metadata": {},
     "output_type": "execute_result"
    }
   ],
   "source": [
    "# re.findall(\"pattern\",\"string\") #O/P:- List\n",
    "re.findall(\"[c]+\",'abccccccdcccccz')"
   ]
  },
  {
   "cell_type": "code",
   "execution_count": 30,
   "metadata": {},
   "outputs": [
    {
     "data": {
      "text/plain": [
       "['abckcnskc', '349985']"
      ]
     },
     "execution_count": 30,
     "metadata": {},
     "output_type": "execute_result"
    }
   ],
   "source": [
    "re.findall(\"[0-9a-z]+\",\"abckcnskcBDB349985BXKND &^*%)$\")"
   ]
  },
  {
   "cell_type": "code",
   "execution_count": 33,
   "metadata": {},
   "outputs": [
    {
     "data": {
      "text/plain": [
       "<re.Match object; span=(0, 0), match=''>"
      ]
     },
     "execution_count": 33,
     "metadata": {},
     "output_type": "execute_result"
    }
   ],
   "source": [
    "re.search(\"[0-9a-z]*\",\"BDB349985BXKND &^*%)$\")"
   ]
  },
  {
   "cell_type": "code",
   "execution_count": 38,
   "metadata": {},
   "outputs": [
    {
     "name": "stdout",
     "output_type": "stream",
     "text": [
      "Valid Mobile Number\n",
      "Not Valid Mobile Number\n",
      "Not Valid Mobile Number\n",
      "Not Valid Mobile Number\n",
      "Valid Mobile Number\n",
      "Not Valid Mobile Number\n"
     ]
    }
   ],
   "source": [
    "numbers=[\"8956237845\",'748596','1235241','41','9878451232',\"451232657898\"]\n",
    "for i in numbers:\n",
    "    if re.search(\"^[0-9]{10}$\",i):\n",
    "        print(\"Valid Mobile Number\")\n",
    "    else:\n",
    "        print(\"Not Valid Mobile Number\")"
   ]
  },
  {
   "cell_type": "code",
   "execution_count": 42,
   "metadata": {},
   "outputs": [
    {
     "data": {
      "text/plain": [
       "<re.Match object; span=(4, 14), match='9123344533'>"
      ]
     },
     "execution_count": 42,
     "metadata": {},
     "output_type": "execute_result"
    }
   ],
   "source": [
    "re.search(\"[0-9]{10}$\",\"msls9123344533\")"
   ]
  },
  {
   "cell_type": "code",
   "execution_count": 43,
   "metadata": {},
   "outputs": [
    {
     "name": "stdout",
     "output_type": "stream",
     "text": [
      "not valid->  1234567890\n",
      "not valid->  89562341\n",
      "not valid->  748596231412345\n",
      "valid->  6966332255\n"
     ]
    }
   ],
   "source": [
    "valid_numbers=[\"1234567890\",\"89562341\",\"748596231412345\",\"6966332255\"]\n",
    "for j in valid_numbers:\n",
    "    if re.search(\"^[6-9][0-9]{9}$\",j):\n",
    "        print(\"valid-> \",j )\n",
    "    else:\n",
    "        print(\"not valid-> \",j )\n",
    "    "
   ]
  },
  {
   "cell_type": "code",
   "execution_count": 48,
   "metadata": {},
   "outputs": [
    {
     "data": {
      "text/plain": [
       "<re.Match object; span=(0, 26), match='satyanarayana.mn@gmail.com'>"
      ]
     },
     "execution_count": 48,
     "metadata": {},
     "output_type": "execute_result"
    }
   ],
   "source": [
    "# Mail ID Pattern\n",
    "mail= \"satyanarayana.mn@gmail.com\"\n",
    "re.match(\"^[0-9a-z]+[0-9a-z]{10}[.]{0,1}[a-z0-9]{0,5}@[a-z]{3,8}.[a-z]{2,4}\",mail)"
   ]
  }
 ],
 "metadata": {
  "kernelspec": {
   "display_name": "Python 3",
   "language": "python",
   "name": "python3"
  },
  "language_info": {
   "codemirror_mode": {
    "name": "ipython",
    "version": 3
   },
   "file_extension": ".py",
   "mimetype": "text/x-python",
   "name": "python",
   "nbconvert_exporter": "python",
   "pygments_lexer": "ipython3",
   "version": "3.8.3"
  }
 },
 "nbformat": 4,
 "nbformat_minor": 4
}
