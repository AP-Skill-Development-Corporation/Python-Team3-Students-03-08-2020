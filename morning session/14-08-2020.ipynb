{
 "cells": [
  {
   "cell_type": "markdown",
   "metadata": {},
   "source": [
    "### comprehensions in python:\n",
    "    - Comprehensions are in python to provide short and easy way to create new sequences such as like(list,tuple,dictionaries,sets)\n",
    "    \n",
    "    * list comprehension\n",
    "    * tuple comprehension\n",
    "    * dictionary comprehension\n",
    "    * set comprehension\n",
    "    "
   ]
  },
  {
   "cell_type": "markdown",
   "metadata": {},
   "source": [
    "## list comprehension:\n",
    "    - By using list comprehension we can create new list from other iterables.\n",
    "    -syntax: variable_name = [output_expresion forloop if(condition)]\n",
    "    "
   ]
  },
  {
   "cell_type": "code",
   "execution_count": 1,
   "metadata": {},
   "outputs": [
    {
     "name": "stdout",
     "output_type": "stream",
     "text": [
      "[1, 2, 3, 4, 5, 6, 7, 8, 9, 10, 11, 12, 13, 14, 15]\n"
     ]
    }
   ],
   "source": [
    "#1.To print natural numbers in between 1 to 15 using list?\n",
    "l1 = []\n",
    "for i in range(1,16):\n",
    "    l1.append(i)\n",
    "print(l1)"
   ]
  },
  {
   "cell_type": "code",
   "execution_count": 2,
   "metadata": {},
   "outputs": [
    {
     "name": "stdout",
     "output_type": "stream",
     "text": [
      "[2, 4, 6, 8, 10, 12, 14]\n"
     ]
    }
   ],
   "source": [
    "#2.To print even numbers in between 1 to 15 using list?\n",
    "l2=[]\n",
    "for i in range(1,16):\n",
    "    if i%2==0:\n",
    "        l2.append(i)\n",
    "print(l2)"
   ]
  },
  {
   "cell_type": "markdown",
   "metadata": {},
   "source": [
    "#### List comprehension exampes:"
   ]
  },
  {
   "cell_type": "code",
   "execution_count": 3,
   "metadata": {},
   "outputs": [
    {
     "name": "stdout",
     "output_type": "stream",
     "text": [
      "[1, 2, 3, 4, 5, 6, 7, 8, 9, 10, 11, 12, 13, 14, 15, 16, 17, 18, 19, 20]\n"
     ]
    }
   ],
   "source": [
    "#1. To print natural numbers in between 1 to 20 using list comprehension?\n",
    "L1 = [i for i in range(1,21)]\n",
    "print(L1)"
   ]
  },
  {
   "cell_type": "code",
   "execution_count": 4,
   "metadata": {},
   "outputs": [
    {
     "data": {
      "text/plain": [
       "[1, 4, 9, 16, 25, 36, 49, 64, 81, 100]"
      ]
     },
     "execution_count": 4,
     "metadata": {},
     "output_type": "execute_result"
    }
   ],
   "source": [
    "# 2. To print the squares of a natural numbers in between 1 to 10 using LC?\n",
    "L2 = [i**2 for i in range(1,11)]\n",
    "L2"
   ]
  },
  {
   "cell_type": "code",
   "execution_count": 5,
   "metadata": {},
   "outputs": [
    {
     "data": {
      "text/plain": [
       "[2, 3, 5, 7, 11, 13]"
      ]
     },
     "execution_count": 5,
     "metadata": {},
     "output_type": "execute_result"
    }
   ],
   "source": [
    "#3.To print prime numbers in between range of 1 to 15 using LC?\n",
    "def isprime(n):\n",
    "    count = 0\n",
    "    for i in range(1,n+1):\n",
    "        if n%i==0:\n",
    "            count = count+1\n",
    "    if count==2:\n",
    "        return n\n",
    "L3 = [i for i in range(1,16) if(isprime(i))]\n",
    "L3"
   ]
  },
  {
   "cell_type": "code",
   "execution_count": null,
   "metadata": {},
   "outputs": [],
   "source": [
    "n=2=>1,2->prime->count=2\n",
    "n=3=>1,3->prime->count=2\n",
    "n=4=>1,2,4->not prime->count=3\n",
    "n=5=>1,5->prime->count=2\n",
    "n=6=>1,2,3,6\n",
    "n=7=>1,7"
   ]
  },
  {
   "cell_type": "code",
   "execution_count": null,
   "metadata": {},
   "outputs": [],
   "source": [
    "# 1. To print even numbers in between range of 1 to 100 using LC?\n",
    "# 2.To print perfect numbers in between range of 1 to 100 using LC?\n",
    "#eg: n=6->1+2+3 =>6==6->It is perfect number."
   ]
  },
  {
   "cell_type": "markdown",
   "metadata": {},
   "source": [
    "### tuple comprehension:\n",
    "    -By using tuple comprehension we can create new tuple from other iterables.\n",
    "    - syntax: variable_name = tuple(output_expression forloop if(condition))"
   ]
  },
  {
   "cell_type": "code",
   "execution_count": 6,
   "metadata": {},
   "outputs": [
    {
     "data": {
      "text/plain": [
       "(1, 3, 5, 7, 9, 11, 13, 15, 17, 19)"
      ]
     },
     "execution_count": 6,
     "metadata": {},
     "output_type": "execute_result"
    }
   ],
   "source": [
    "# To print odd_numbers in between range of 1 to 20 using tuple comprehension?\n",
    "t1 =tuple(i for i in range(1,21) if i%2!=0)\n",
    "t1"
   ]
  },
  {
   "cell_type": "markdown",
   "metadata": {},
   "source": [
    "### dictionary comprehension:\n",
    "    - by dictionary comprehension we can create new dictionary from other iterables.\n",
    "    - syntax: variable_name = {key:value forloop if(condition)}\n",
    "    "
   ]
  },
  {
   "cell_type": "code",
   "execution_count": 10,
   "metadata": {},
   "outputs": [
    {
     "name": "stdout",
     "output_type": "stream",
     "text": [
      "{1: 1, 2: 4, 3: 9, 4: 16, 5: 25, 6: 36, 7: 49, 8: 64, 9: 81, 10: 100}\n"
     ]
    }
   ],
   "source": [
    "# To print squares of a numbers in between range of 1 to 10 using dictionary formatt?\n",
    "### output:{1:1,2:4,3:9,4:16...}\n",
    "# d={}\n",
    "# for i in range(1,11):\n",
    "#     d[i]=i**2\n",
    "# print(d)  \n",
    "d ={i:i**2 for i in range(1,11)}\n",
    "print(d)"
   ]
  },
  {
   "cell_type": "code",
   "execution_count": 13,
   "metadata": {},
   "outputs": [
    {
     "data": {
      "text/plain": [
       "{'apple': 5, 'banana': 6, 'mango': 5}"
      ]
     },
     "execution_count": 13,
     "metadata": {},
     "output_type": "execute_result"
    }
   ],
   "source": [
    "L3 =['apple','banana','mango']\n",
    "#using above list to print length of given word using DC?\n",
    "#output:{apple:5,banana:6,mango:5}\n",
    "d2={i:len(i) for i in L3}\n",
    "d2"
   ]
  },
  {
   "cell_type": "code",
   "execution_count": 14,
   "metadata": {},
   "outputs": [
    {
     "data": {
      "text/plain": [
       "{'apple': 'Apple', 'banana': 'Banana', 'mango': 'Mango'}"
      ]
     },
     "execution_count": 14,
     "metadata": {},
     "output_type": "execute_result"
    }
   ],
   "source": [
    "d3 ={i:i.title() for i in L3}\n",
    "d3"
   ]
  },
  {
   "cell_type": "code",
   "execution_count": null,
   "metadata": {},
   "outputs": [],
   "source": [
    "#1. create dictionary to find the characater frequencey in given string?\n",
    "'''input: s=python programmming\n",
    "   output:d={p:2,y:1,t:1....}\n",
    "'''\n",
    "#2.d={'raju':38,'ravi':45,'ramu':36,'lokesh':55} only print even values item in above dictionary?\n",
    "#3.using LC to print only characters in given string?\n",
    "'''\n",
    "    input: s=\"pythonprogramming@12344apssdc_ \"\n",
    "    output:['p','y','t'.....]\n",
    "'''"
   ]
  },
  {
   "cell_type": "markdown",
   "metadata": {},
   "source": [
    "### set comprehension:\n",
    "    - syntax: variable_name ={output_expression forloop condition}\n",
    "    "
   ]
  },
  {
   "cell_type": "code",
   "execution_count": 15,
   "metadata": {},
   "outputs": [
    {
     "name": "stdout",
     "output_type": "stream",
     "text": [
      "[10, 20, 30, 55, 23]\n"
     ]
    }
   ],
   "source": [
    "L3 =[10,20,30,10,20,55,10,23]\n",
    "#output: L3=[10,20,30,55,23]\n",
    "L2 = []\n",
    "for i in L3:\n",
    "    if i not in L2:\n",
    "        L2.append(i)\n",
    "print(L2)"
   ]
  },
  {
   "cell_type": "code",
   "execution_count": 20,
   "metadata": {},
   "outputs": [
    {
     "name": "stdout",
     "output_type": "stream",
     "text": [
      "{10, 20, 55, 23, 30}\n"
     ]
    }
   ],
   "source": [
    "s1={i for i in L3}\n",
    "print(s1)"
   ]
  },
  {
   "cell_type": "code",
   "execution_count": 18,
   "metadata": {},
   "outputs": [
    {
     "data": {
      "text/plain": [
       "{'1', '2', '3', '4', 'a', 'c', 'd', 'p', 's'}"
      ]
     },
     "execution_count": 18,
     "metadata": {},
     "output_type": "execute_result"
    }
   ],
   "source": [
    "s1=\"apssdc112344\"\n",
    "s2={i for i in s1}\n",
    "s2"
   ]
  },
  {
   "cell_type": "markdown",
   "metadata": {},
   "source": [
    "### lambda:\n",
    "    - by using lambda keyword we can create a function.\n",
    "    - with out writing def and functionname.\n",
    "    - It is anynomous function in a single line.\n",
    "    - syntax: varible_name = lambda arguments:expression\n",
    "              variable_name(arguments)"
   ]
  },
  {
   "cell_type": "code",
   "execution_count": 21,
   "metadata": {},
   "outputs": [
    {
     "name": "stdout",
     "output_type": "stream",
     "text": [
      "33\n"
     ]
    }
   ],
   "source": [
    "# to find addition of two numbers.\n",
    "def addition(a,b):\n",
    "    return a+b\n",
    "print(addition(10,23))"
   ]
  },
  {
   "cell_type": "code",
   "execution_count": 22,
   "metadata": {},
   "outputs": [
    {
     "data": {
      "text/plain": [
       "68"
      ]
     },
     "execution_count": 22,
     "metadata": {},
     "output_type": "execute_result"
    }
   ],
   "source": [
    "# to find addition of two numbers using lambda?\n",
    "add = lambda a,b:a+b\n",
    "add(23,45)"
   ]
  },
  {
   "cell_type": "code",
   "execution_count": 23,
   "metadata": {},
   "outputs": [
    {
     "data": {
      "text/plain": [
       "[1, 3, 5, 7, 9, 11]"
      ]
     },
     "execution_count": 23,
     "metadata": {},
     "output_type": "execute_result"
    }
   ],
   "source": [
    "# to print odd numbers using lambda?\n",
    "b = lambda x:x%2!=0\n",
    "k =[i for i in range(1,13) if(b(i))]\n",
    "k"
   ]
  },
  {
   "cell_type": "code",
   "execution_count": 25,
   "metadata": {},
   "outputs": [
    {
     "name": "stdout",
     "output_type": "stream",
     "text": [
      "Enter range16\n",
      "[1, 3, 5, 7, 9, 11, 13, 15]\n"
     ]
    }
   ],
   "source": [
    "n=int(input(\"Enter range\"))\n",
    "k=[i for i in range(1,n+1) if(b(i))]\n",
    "print(k)"
   ]
  },
  {
   "cell_type": "markdown",
   "metadata": {},
   "source": [
    "### functional programming:"
   ]
  },
  {
   "cell_type": "markdown",
   "metadata": {},
   "source": [
    "### iterator:\n",
    "        - To fetch the one value at a time from function.\n",
    "        - iter,next\n",
    "        - syntax: variable_name = iter(iterable)\n",
    "                    next(variable_name)"
   ]
  },
  {
   "cell_type": "code",
   "execution_count": 26,
   "metadata": {},
   "outputs": [
    {
     "data": {
      "text/plain": [
       "10"
      ]
     },
     "execution_count": 26,
     "metadata": {},
     "output_type": "execute_result"
    }
   ],
   "source": [
    "L1=[10,20,30,40]\n",
    "a = iter(L1)\n",
    "next(a)"
   ]
  },
  {
   "cell_type": "code",
   "execution_count": 27,
   "metadata": {},
   "outputs": [
    {
     "data": {
      "text/plain": [
       "20"
      ]
     },
     "execution_count": 27,
     "metadata": {},
     "output_type": "execute_result"
    }
   ],
   "source": [
    "next(a)"
   ]
  },
  {
   "cell_type": "code",
   "execution_count": 28,
   "metadata": {},
   "outputs": [
    {
     "data": {
      "text/plain": [
       "30"
      ]
     },
     "execution_count": 28,
     "metadata": {},
     "output_type": "execute_result"
    }
   ],
   "source": [
    "next(a)"
   ]
  },
  {
   "cell_type": "code",
   "execution_count": 29,
   "metadata": {},
   "outputs": [
    {
     "data": {
      "text/plain": [
       "40"
      ]
     },
     "execution_count": 29,
     "metadata": {},
     "output_type": "execute_result"
    }
   ],
   "source": [
    "next(a)"
   ]
  },
  {
   "cell_type": "code",
   "execution_count": 30,
   "metadata": {},
   "outputs": [
    {
     "ename": "StopIteration",
     "evalue": "",
     "output_type": "error",
     "traceback": [
      "\u001b[1;31m---------------------------------------------------------------------------\u001b[0m",
      "\u001b[1;31mStopIteration\u001b[0m                             Traceback (most recent call last)",
      "\u001b[1;32m<ipython-input-30-15841f3f11d4>\u001b[0m in \u001b[0;36m<module>\u001b[1;34m\u001b[0m\n\u001b[1;32m----> 1\u001b[1;33m \u001b[0mnext\u001b[0m\u001b[1;33m(\u001b[0m\u001b[0ma\u001b[0m\u001b[1;33m)\u001b[0m\u001b[1;33m\u001b[0m\u001b[1;33m\u001b[0m\u001b[0m\n\u001b[0m",
      "\u001b[1;31mStopIteration\u001b[0m: "
     ]
    }
   ],
   "source": [
    "next(a)"
   ]
  },
  {
   "cell_type": "code",
   "execution_count": 31,
   "metadata": {},
   "outputs": [
    {
     "data": {
      "text/plain": [
       "[2, 3, 5, 7]"
      ]
     },
     "execution_count": 31,
     "metadata": {},
     "output_type": "execute_result"
    }
   ],
   "source": [
    "l2=[i for i in range(1,10) if isprime(i)]\n",
    "l2"
   ]
  },
  {
   "cell_type": "code",
   "execution_count": 32,
   "metadata": {},
   "outputs": [
    {
     "data": {
      "text/plain": [
       "2"
      ]
     },
     "execution_count": 32,
     "metadata": {},
     "output_type": "execute_result"
    }
   ],
   "source": [
    "b = iter(l2)\n",
    "next(b)"
   ]
  },
  {
   "cell_type": "code",
   "execution_count": 33,
   "metadata": {},
   "outputs": [
    {
     "data": {
      "text/plain": [
       "3"
      ]
     },
     "execution_count": 33,
     "metadata": {},
     "output_type": "execute_result"
    }
   ],
   "source": [
    "next(b)"
   ]
  },
  {
   "cell_type": "markdown",
   "metadata": {},
   "source": [
    "### generator:\n",
    "        - to generate sequence of numbers from the function using 'yield' keyword in format of list.\n",
    "        - in function instead of 'return' we can use 'yield'"
   ]
  },
  {
   "cell_type": "code",
   "execution_count": 34,
   "metadata": {},
   "outputs": [
    {
     "data": {
      "text/plain": [
       "5"
      ]
     },
     "execution_count": 34,
     "metadata": {},
     "output_type": "execute_result"
    }
   ],
   "source": [
    "# to print 1 to 5 natural numbers using function?\n",
    "def natural(n):\n",
    "    while n>=1:\n",
    "        return n\n",
    "        n=n-1\n",
    "natural(5)"
   ]
  },
  {
   "cell_type": "code",
   "execution_count": 37,
   "metadata": {},
   "outputs": [
    {
     "data": {
      "text/plain": [
       "[1, 2, 3, 4, 5]"
      ]
     },
     "execution_count": 37,
     "metadata": {},
     "output_type": "execute_result"
    }
   ],
   "source": [
    "def natural(n):\n",
    "    n=1\n",
    "    while n<=5:\n",
    "        yield n\n",
    "        n=n+1\n",
    "list(natural(5))"
   ]
  },
  {
   "cell_type": "markdown",
   "metadata": {},
   "source": [
    "### filter:\n",
    "        - syntax: filter(function_name,sequence)"
   ]
  },
  {
   "cell_type": "code",
   "execution_count": 39,
   "metadata": {},
   "outputs": [
    {
     "data": {
      "text/plain": [
       "[-3, -4, -7]"
      ]
     },
     "execution_count": 39,
     "metadata": {},
     "output_type": "execute_result"
    }
   ],
   "source": [
    "L3=[10,2,-3,-4,12,-7]\n",
    "def negative(n):\n",
    "    return n<0\n",
    "f1=list(filter(negative,L3))\n",
    "f1"
   ]
  },
  {
   "cell_type": "markdown",
   "metadata": {},
   "source": [
    "### map:\n",
    "        - syntax: map(function_name,sequence)"
   ]
  },
  {
   "cell_type": "code",
   "execution_count": 41,
   "metadata": {},
   "outputs": [
    {
     "name": "stdout",
     "output_type": "stream",
     "text": [
      "[-3, -4, -7]\n",
      "[7, 6, 3]\n"
     ]
    }
   ],
   "source": [
    "m1 = list(map(lambda n:n+10,f1))\n",
    "print(f1)\n",
    "print(m1)"
   ]
  },
  {
   "cell_type": "code",
   "execution_count": 42,
   "metadata": {},
   "outputs": [
    {
     "name": "stdout",
     "output_type": "stream",
     "text": [
      "Enter a value10\n",
      "Enter b value20\n",
      "10 20\n"
     ]
    }
   ],
   "source": [
    "# int a,b;\n",
    "# print(\"Enter a and b values\");\n",
    "#scanf(\"%d%d\",&a,&b);\n",
    "a=int(input(\"Enter a value\"))\n",
    "b=int(input(\"Enter b value\"))\n",
    "print(a,b)"
   ]
  },
  {
   "cell_type": "code",
   "execution_count": 44,
   "metadata": {},
   "outputs": [
    {
     "name": "stdout",
     "output_type": "stream",
     "text": [
      "10 20 30\n",
      "10 20 30\n"
     ]
    }
   ],
   "source": [
    "a,b,c=map(int,input().split())\n",
    "print(a,b,c)"
   ]
  },
  {
   "cell_type": "markdown",
   "metadata": {},
   "source": [
    "### reduce:\n",
    "    - It returns only single value from the function.\n",
    "    - reduce(function_name,sequence)\n",
    "    - from functools import reduce"
   ]
  },
  {
   "cell_type": "code",
   "execution_count": 46,
   "metadata": {},
   "outputs": [
    {
     "data": {
      "text/plain": [
       "0.041666666666666664"
      ]
     },
     "execution_count": 46,
     "metadata": {},
     "output_type": "execute_result"
    }
   ],
   "source": [
    "from functools import reduce\n",
    "L1=[1,2,3,4]\n",
    "# to sum of all the list of values...\n",
    "r1=reduce(lambda x,y:x/y,L1)\n",
    "r1"
   ]
  },
  {
   "cell_type": "code",
   "execution_count": null,
   "metadata": {},
   "outputs": [],
   "source": [
    "# reduce explanation..........\n",
    "[1,2,3,4]\n",
    "x=1,y=2=>1+2=>3\n",
    "x=3,y=3=>3+3=>6\n",
    "x=6,y=4=>6+4=>10\n",
    "10"
   ]
  }
 ],
 "metadata": {
  "kernelspec": {
   "display_name": "Python 3",
   "language": "python",
   "name": "python3"
  },
  "language_info": {
   "codemirror_mode": {
    "name": "ipython",
    "version": 3
   },
   "file_extension": ".py",
   "mimetype": "text/x-python",
   "name": "python",
   "nbconvert_exporter": "python",
   "pygments_lexer": "ipython3",
   "version": "3.7.3"
  }
 },
 "nbformat": 4,
 "nbformat_minor": 2
}
