{
 "cells": [
  {
   "cell_type": "code",
   "execution_count": null,
   "metadata": {},
   "outputs": [],
   "source": [
    "# function syntax\n",
    "def functionname(args):\n",
    "    statements\n",
    "    return variablename\n",
    "functionname(args)"
   ]
  },
  {
   "cell_type": "code",
   "execution_count": 1,
   "metadata": {},
   "outputs": [
    {
     "name": "stdout",
     "output_type": "stream",
     "text": [
      "enter a messagethis is a sample function\n"
     ]
    }
   ],
   "source": [
    "def message(m):\n",
    "    print(m+\" by user\")\n",
    "    \n",
    "m=input(\"enter a message\")"
   ]
  },
  {
   "cell_type": "code",
   "execution_count": 4,
   "metadata": {},
   "outputs": [
    {
     "name": "stdout",
     "output_type": "stream",
     "text": [
      "enter a messagemessage\n"
     ]
    },
    {
     "data": {
      "text/plain": [
       "'message by user'"
      ]
     },
     "execution_count": 4,
     "metadata": {},
     "output_type": "execute_result"
    }
   ],
   "source": [
    "def message(m):\n",
    "    return m+\" by user\"\n",
    "    \n",
    "m=input(\"enter a message\")\n",
    "k=message(m)\n",
    "k"
   ]
  },
  {
   "cell_type": "code",
   "execution_count": 12,
   "metadata": {},
   "outputs": [
    {
     "data": {
      "text/plain": [
       "18"
      ]
     },
     "execution_count": 12,
     "metadata": {},
     "output_type": "execute_result"
    }
   ],
   "source": [
    "def add(a,b,e,d):\n",
    "    c=a+b+e\n",
    "    return c\n",
    "\n",
    "#a = int(input(\"a\"))\n",
    "#b = int(input(\"b\"))\n",
    "add(b=5,a=6,d=10,e=7)"
   ]
  },
  {
   "cell_type": "markdown",
   "metadata": {},
   "source": [
    "- Types of Functions\n",
    ">1. required arguments\n",
    ">2. keyword arguments\n",
    ">3. default arguments\n",
    ">4. Variable length arguments"
   ]
  },
  {
   "cell_type": "code",
   "execution_count": 15,
   "metadata": {},
   "outputs": [
    {
     "name": "stdout",
     "output_type": "stream",
     "text": [
      "3 python 45.6 98\n"
     ]
    }
   ],
   "source": [
    "def defaultargs(a=3,b=\"python\",c=45.6,d=98):\n",
    "    print(a,b,c,d)\n",
    "    \n",
    "#defaultargs(2)\n",
    "#defaultargs(1,2,3,4)\n",
    "defaultargs()"
   ]
  },
  {
   "cell_type": "code",
   "execution_count": 19,
   "metadata": {},
   "outputs": [
    {
     "name": "stdout",
     "output_type": "stream",
     "text": [
      "1 2 (3, 34, 5, 7, 8, 90, 0, 67)\n"
     ]
    }
   ],
   "source": [
    "def variable(a,c,*v):\n",
    "    print(a,c,v)\n",
    "variable(1,2,3,34,5,7,8,90,0,67)"
   ]
  },
  {
   "cell_type": "code",
   "execution_count": null,
   "metadata": {},
   "outputs": [],
   "source": []
  }
 ],
 "metadata": {
  "kernelspec": {
   "display_name": "Python 3",
   "language": "python",
   "name": "python3"
  },
  "language_info": {
   "codemirror_mode": {
    "name": "ipython",
    "version": 3
   },
   "file_extension": ".py",
   "mimetype": "text/x-python",
   "name": "python",
   "nbconvert_exporter": "python",
   "pygments_lexer": "ipython3",
   "version": "3.7.1"
  }
 },
 "nbformat": 4,
 "nbformat_minor": 2
}
