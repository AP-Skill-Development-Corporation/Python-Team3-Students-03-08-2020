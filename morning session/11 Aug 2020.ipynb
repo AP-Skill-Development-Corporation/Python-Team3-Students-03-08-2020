{
 "cells": [
  {
   "cell_type": "markdown",
   "metadata": {},
   "source": [
    "### Regular Expression\n",
    "- A RegEx is a sequence of characters that match a pattern\n",
    "- it is a symbolic represntation\n",
    "- import re"
   ]
  },
  {
   "cell_type": "markdown",
   "metadata": {},
   "source": [
    "- symbol     use case\n",
    "- []        represents a character\n",
    "- ^         matches the begining\n",
    "- *         zero or more occurence\n",
    "- +         one or more occurence\n",
    "- .         match a character\n",
    "- [a-zA-z]  matches any character within the range\n",
    "- [0-9]     matches any character within the range\n",
    "- |         or operation\n",
    "- {}        range set\n",
    "- ()        enclosing of regular expression\n",
    "- $         matches the ending"
   ]
  },
  {
   "cell_type": "code",
   "execution_count": 2,
   "metadata": {},
   "outputs": [
    {
     "data": {
      "text/plain": [
       "<re.Match object; span=(2, 5), match='tho'>"
      ]
     },
     "execution_count": 2,
     "metadata": {},
     "output_type": "execute_result"
    }
   ],
   "source": [
    "import re\n",
    "re.search(\"tho\",\"python\")"
   ]
  },
  {
   "cell_type": "code",
   "execution_count": 3,
   "metadata": {},
   "outputs": [
    {
     "data": {
      "text/plain": [
       "<re.Match object; span=(1, 2), match='o'>"
      ]
     },
     "execution_count": 3,
     "metadata": {},
     "output_type": "execute_result"
    }
   ],
   "source": [
    "re.search('o',\"workshop\")# searches for the character in string until it found,\n",
    "#                        if its found doesnt search in remaining string"
   ]
  },
  {
   "cell_type": "code",
   "execution_count": 4,
   "metadata": {},
   "outputs": [],
   "source": [
    "re.match(\"t\",\"python\") # matches the starting of a string"
   ]
  },
  {
   "cell_type": "code",
   "execution_count": 6,
   "metadata": {},
   "outputs": [
    {
     "data": {
      "text/plain": [
       "<re.Match object; span=(0, 4), match='pyth'>"
      ]
     },
     "execution_count": 6,
     "metadata": {},
     "output_type": "execute_result"
    }
   ],
   "source": [
    "re.match(\"pyth\",\"python\")"
   ]
  },
  {
   "cell_type": "code",
   "execution_count": 9,
   "metadata": {},
   "outputs": [
    {
     "data": {
      "text/plain": [
       "['o', 'o']"
      ]
     },
     "execution_count": 9,
     "metadata": {},
     "output_type": "execute_result"
    }
   ],
   "source": [
    "re.findall('o',\"workshop\") # seraches for the character in entire string"
   ]
  },
  {
   "cell_type": "code",
   "execution_count": 12,
   "metadata": {},
   "outputs": [
    {
     "name": "stdout",
     "output_type": "stream",
     "text": [
      "enterharika\n"
     ]
    },
    {
     "data": {
      "text/plain": [
       "False"
      ]
     },
     "execution_count": 12,
     "metadata": {},
     "output_type": "execute_result"
    }
   ],
   "source": [
    "def example(c):\n",
    "    pattern = '^[a][a-z]*$'\n",
    "    if re.match(pattern,c):\n",
    "        return True\n",
    "    return False\n",
    "c = input(\"enter\")\n",
    "example(c)"
   ]
  },
  {
   "cell_type": "code",
   "execution_count": 18,
   "metadata": {},
   "outputs": [
    {
     "name": "stdout",
     "output_type": "stream",
     "text": [
      "entersa78a\n"
     ]
    },
    {
     "data": {
      "text/plain": [
       "True"
      ]
     },
     "execution_count": 18,
     "metadata": {},
     "output_type": "execute_result"
    }
   ],
   "source": [
    "# starting with s and ending with a - sarita,sandhya\n",
    "def sample(c):\n",
    "    pattern = '^[s][a-z0-9]*[a]$'\n",
    "    if re.match(pattern,c):\n",
    "        return True\n",
    "    return False\n",
    "c = input(\"enter\")\n",
    "sample(c)"
   ]
  },
  {
   "cell_type": "markdown",
   "metadata": {},
   "source": [
    "- 10 digits \n",
    "    - [6-9] -1 and [0-9]-9 \n",
    "    \n",
    "    - ^[6-9][0-9]{9}\n",
    "    \n",
    "- 11 digits\n",
    "    - 0 67890 12345\n",
    "    - ^[0][6-9][0-9]{9}\n",
    "\n",
    "- 12 digits\n",
    "    - +91 67890 12345\n",
    "    - ^[+][9][1][6-9][0-9]{9}"
   ]
  },
  {
   "cell_type": "code",
   "execution_count": 20,
   "metadata": {},
   "outputs": [
    {
     "name": "stdout",
     "output_type": "stream",
     "text": [
      "enter789065432\n"
     ]
    },
    {
     "data": {
      "text/plain": [
       "False"
      ]
     },
     "execution_count": 20,
     "metadata": {},
     "output_type": "execute_result"
    }
   ],
   "source": [
    "# phone number validation\n",
    "def mobileNumberValidation(c):\n",
    "    pattern = '^[6-9][0-9]{9}$|^[0][6-9][0-9]{9}$|^[+][9][1][6-9][0-9]{9}$'\n",
    "    if re.match(pattern,c):\n",
    "        return True\n",
    "    return False\n",
    "c = input(\"enter\")\n",
    "mobileNumberValidation(c)"
   ]
  },
  {
   "cell_type": "markdown",
   "metadata": {},
   "source": [
    "#### email validation\n",
    "- abcd_h@gmail.com\n",
    "- username - abcd\n",
    "    - accepts alphabet and digits, - ,.\n",
    "    - no special characters are accepted\n",
    "    - should not begin with _ or .\n",
    "    - 16 characters\n",
    "    - ^[a-z0-9][0-9a-z_.]{7,15}[0-9a-z]\n",
    "- domain - gmail\n",
    "    - accepts alphabet and digits\n",
    "    - no special characters are accepted\n",
    "    - minimum - 5 and maximum - 18\n",
    "    - [0-9a-z]{5,18}\n",
    "- extension - com\n",
    "    - accepts alphabet\n",
    "    - 3 to 5 characters\n",
    "    - no special characters are accepted\n",
    "    - [a-z]{3,5}$"
   ]
  },
  {
   "cell_type": "code",
   "execution_count": 24,
   "metadata": {},
   "outputs": [
    {
     "name": "stdout",
     "output_type": "stream",
     "text": [
      "enterabcdefg.j@gmail.com\n"
     ]
    },
    {
     "data": {
      "text/plain": [
       "True"
      ]
     },
     "execution_count": 24,
     "metadata": {},
     "output_type": "execute_result"
    }
   ],
   "source": [
    "def emailValidation(c):\n",
    "    pattern = '^[a-z0-9][0-9a-z_.]{7,15}[0-9a-z][@][0-9a-z]{5,18}[.][a-z]{3,5}$'\n",
    "    if re.match(pattern,c):\n",
    "        return True\n",
    "    return False\n",
    "c = input(\"enter\")\n",
    "emailValidation(c)"
   ]
  },
  {
   "cell_type": "code",
   "execution_count": 21,
   "metadata": {},
   "outputs": [],
   "source": [
    "# Task \n",
    "# write a pattern which accepts any string of length 7 and starting with 'j' and ending with 'y'\n",
    "# test string : journey,jaggery"
   ]
  },
  {
   "cell_type": "code",
   "execution_count": null,
   "metadata": {},
   "outputs": [],
   "source": []
  }
 ],
 "metadata": {
  "kernelspec": {
   "display_name": "Python 3",
   "language": "python",
   "name": "python3"
  },
  "language_info": {
   "codemirror_mode": {
    "name": "ipython",
    "version": 3
   },
   "file_extension": ".py",
   "mimetype": "text/x-python",
   "name": "python",
   "nbconvert_exporter": "python",
   "pygments_lexer": "ipython3",
   "version": "3.7.1"
  }
 },
 "nbformat": 4,
 "nbformat_minor": 2
}
