{
 "cells": [
  {
   "cell_type": "markdown",
   "metadata": {},
   "source": [
    "### File\n",
    "- file is a collection of data/Information and allows user to read, write and append to a file\n",
    "##### operations\n",
    "- open\n",
    "- read\n",
    "- write\n",
    "- append\n",
    "- close\n",
    "##### modes\n",
    "- 'r' reading read()\n",
    "- 'w' to write write()\n",
    "- 'a' to append write()"
   ]
  },
  {
   "cell_type": "code",
   "execution_count": 1,
   "metadata": {},
   "outputs": [
    {
     "name": "stdout",
     "output_type": "stream",
     "text": [
      "this is a sample text file\n"
     ]
    }
   ],
   "source": [
    "f = open('data.txt')\n",
    "fh = f.read()\n",
    "print(fh)\n",
    "f.close()"
   ]
  },
  {
   "cell_type": "code",
   "execution_count": 2,
   "metadata": {},
   "outputs": [
    {
     "name": "stdout",
     "output_type": "stream",
     "text": [
      "this is a sample text file\n"
     ]
    }
   ],
   "source": [
    "with open('data.txt') as f:\n",
    "    fh = f.read()\n",
    "    print(fh)"
   ]
  },
  {
   "cell_type": "code",
   "execution_count": 3,
   "metadata": {},
   "outputs": [
    {
     "name": "stdout",
     "output_type": "stream",
     "text": [
      "18\n"
     ]
    }
   ],
   "source": [
    "f = open(\"writedata.txt\",'w')\n",
    "fh = f.write(\"this is write mode\")\n",
    "print(fh)"
   ]
  },
  {
   "cell_type": "code",
   "execution_count": 4,
   "metadata": {},
   "outputs": [
    {
     "name": "stdout",
     "output_type": "stream",
     "text": [
      "this is write mode\n"
     ]
    }
   ],
   "source": [
    "with open('writedata.txt') as f:\n",
    "    fh = f.read()\n",
    "    print(fh)"
   ]
  },
  {
   "cell_type": "code",
   "execution_count": 5,
   "metadata": {},
   "outputs": [
    {
     "name": "stdout",
     "output_type": "stream",
     "text": [
      "22\n"
     ]
    }
   ],
   "source": [
    "with open('data.txt','a') as f:\n",
    "    fh = f.write(\" this is a append mode\")\n",
    "    print(fh)"
   ]
  },
  {
   "cell_type": "markdown",
   "metadata": {},
   "source": [
    "### tell()\n",
    "- helps us to know the current cursor position in the file\n",
    "### seek()\n",
    "- helps us to move the cursor to a particular position in the file\n",
    "### split()\n",
    "- splits the data based on given character or else splits with space\n",
    "### readlines()\n",
    "- reads all lines to the end of the file"
   ]
  },
  {
   "cell_type": "code",
   "execution_count": 6,
   "metadata": {},
   "outputs": [
    {
     "name": "stdout",
     "output_type": "stream",
     "text": [
      "48\n",
      " a sample text file this is a append mode\n"
     ]
    }
   ],
   "source": [
    "with open('data.txt') as f:\n",
    "    f.read()\n",
    "    print(f.tell())\n",
    "    f.seek(7)\n",
    "    print(f.read())"
   ]
  },
  {
   "cell_type": "code",
   "execution_count": 8,
   "metadata": {},
   "outputs": [
    {
     "name": "stdout",
     "output_type": "stream",
     "text": [
      "['th', 's ', 's a sample text f', 'le th', 's ', 's a append mode']\n"
     ]
    }
   ],
   "source": [
    "with open('data.txt') as f:\n",
    "    fh = f.read()\n",
    "    words = fh.split('i')\n",
    "    print(words)"
   ]
  },
  {
   "cell_type": "code",
   "execution_count": 10,
   "metadata": {},
   "outputs": [
    {
     "name": "stdout",
     "output_type": "stream",
     "text": [
      "['this is a sample text file \\n', 'this is a append mode\\n', 'line3\\n', 'line 4']\n"
     ]
    }
   ],
   "source": [
    "with open('data.txt') as f:\n",
    "    fh= f.readlines()\n",
    "    print(fh)"
   ]
  },
  {
   "cell_type": "code",
   "execution_count": 11,
   "metadata": {},
   "outputs": [
    {
     "name": "stdout",
     "output_type": "stream",
     "text": [
      "enter filenamedata.txt\n"
     ]
    },
    {
     "data": {
      "text/plain": [
       "4"
      ]
     },
     "execution_count": 11,
     "metadata": {},
     "output_type": "execute_result"
    }
   ],
   "source": [
    "# to print the no of lines present in the file\n",
    "def linecount(filepath):\n",
    "    c = 0\n",
    "    with open(filepath,'r') as f:\n",
    "        for i in f:\n",
    "            c += 1\n",
    "    return c \n",
    "    \n",
    "filepath= input(\"enter filename\")\n",
    "linecount(filepath)"
   ]
  },
  {
   "cell_type": "code",
   "execution_count": 12,
   "metadata": {},
   "outputs": [],
   "source": [
    "# to print character count, word count"
   ]
  },
  {
   "cell_type": "markdown",
   "metadata": {},
   "source": [
    "### Classes and objects\n",
    "##### class\n",
    "- collection of methods and variables\n",
    "###### variables\n",
    "- properties are represented as variables in a class\n",
    "###### methods\n",
    "- actions to be done in class are represented as methods\n",
    "#### object\n",
    "- instance of a class and its a physical entity\n"
   ]
  },
  {
   "cell_type": "code",
   "execution_count": 13,
   "metadata": {},
   "outputs": [
    {
     "data": {
      "text/plain": [
       "<__main__.Sample at 0x2b8455aec50>"
      ]
     },
     "execution_count": 13,
     "metadata": {},
     "output_type": "execute_result"
    }
   ],
   "source": [
    "class Sample:\n",
    "    pass\n",
    "a = Sample()\n",
    "a"
   ]
  },
  {
   "cell_type": "code",
   "execution_count": 16,
   "metadata": {},
   "outputs": [
    {
     "data": {
      "text/plain": [
       "<__main__.data at 0x2b8455bd080>"
      ]
     },
     "execution_count": 16,
     "metadata": {},
     "output_type": "execute_result"
    }
   ],
   "source": [
    "class data:\n",
    "    '''this is a multi line comment'''\n",
    "    \n",
    "d = data()\n",
    "d"
   ]
  },
  {
   "cell_type": "code",
   "execution_count": 17,
   "metadata": {},
   "outputs": [
    {
     "data": {
      "text/plain": [
       "'this is a multi line comment'"
      ]
     },
     "execution_count": 17,
     "metadata": {},
     "output_type": "execute_result"
    }
   ],
   "source": [
    "d.__doc__"
   ]
  },
  {
   "cell_type": "markdown",
   "metadata": {},
   "source": [
    "- __init__\n",
    "- init is a funtion which is called default when an object is created\n",
    "- self\n",
    "- it should be a first arguement\n",
    "- it points to current object\n",
    "- no need to provide value for self argument at the time of object creation"
   ]
  },
  {
   "cell_type": "code",
   "execution_count": 23,
   "metadata": {},
   "outputs": [
    {
     "name": "stdout",
     "output_type": "stream",
     "text": [
      "1234 harika\n"
     ]
    }
   ],
   "source": [
    "class student:\n",
    "    def __init__(self,sid,sname):\n",
    "        self.sid = sid\n",
    "        self.sname = sname\n",
    "    def display(self):\n",
    "        print(self.sid,self.sname)\n",
    "        \n",
    "ob = student(1234,\"harika\")\n",
    "ob.display()"
   ]
  },
  {
   "cell_type": "code",
   "execution_count": 24,
   "metadata": {},
   "outputs": [
    {
     "name": "stdout",
     "output_type": "stream",
     "text": [
      "27\n"
     ]
    }
   ],
   "source": [
    "class arithmetic:\n",
    "    def __init__(self,a,b):\n",
    "        self.a = a\n",
    "        self.b= b\n",
    "    def add(self):\n",
    "        print(self.a+self.b)\n",
    "        \n",
    "ob = arithmetic(12,15)\n",
    "ob.add()"
   ]
  },
  {
   "cell_type": "markdown",
   "metadata": {},
   "source": [
    "https://drive.google.com/drive/folders/1ZUm1M8FybP5DnHLwKG1J0zOnHMiADRw0?usp=sharing"
   ]
  },
  {
   "cell_type": "markdown",
   "metadata": {},
   "source": [
    "### Types of variables\n",
    "- static variables\n",
    "- class variables\n",
    "- instance variables\n",
    "### Types of methods\n",
    "- static method\n",
    "- class method\n",
    "- instance method"
   ]
  },
  {
   "cell_type": "code",
   "execution_count": 10,
   "metadata": {},
   "outputs": [
    {
     "name": "stdout",
     "output_type": "stream",
     "text": [
      "1234 poojitha\n",
      "organization name is: APSSDC\n",
      "42\n"
     ]
    }
   ],
   "source": [
    "class Employee:\n",
    "    org = \"APSSDC\"\n",
    "    \n",
    "    def __init__(self,eid,ename):\n",
    "        self.eid = eid\n",
    "        self.ename = ename\n",
    "        \n",
    "    def show(self): # instance method\n",
    "        print(self.eid,self.ename)\n",
    "        \n",
    "    def company(): # class method\n",
    "        print(\"organization name is:\",Employee.org)\n",
    "        \n",
    "    def multiply(a,b): # static method\n",
    "        print(a*b)\n",
    "        \n",
    "ob = Employee(1234,\"poojitha\")\n",
    "ob.show()\n",
    "Employee.company()       \n",
    "Employee.multiply(6,7)"
   ]
  },
  {
   "cell_type": "markdown",
   "metadata": {},
   "source": [
    "### Inheritance \n",
    "- extracting properties from one class to another class\n",
    "#### Types\n",
    "- Single level\n",
    "- multiple\n",
    "- multilevel\n",
    "- hierachical"
   ]
  },
  {
   "cell_type": "code",
   "execution_count": 12,
   "metadata": {},
   "outputs": [
    {
     "name": "stdout",
     "output_type": "stream",
     "text": [
      "this is function1\n",
      "this is function3\n"
     ]
    }
   ],
   "source": [
    "# single level inheritance -- Parent--->child\n",
    "class Parent:\n",
    "    def fun1(self):\n",
    "        print(\"this is function1\")\n",
    "    def fun2(self):\n",
    "        print(\"this is function2\")\n",
    "        \n",
    "class child(Parent):\n",
    "    def fun3(self):\n",
    "        print(\"this is function3\")\n",
    "    def fun4(self):\n",
    "        print(\"this is function4\")\n",
    "        \n",
    "ob = child()\n",
    "ob.fun1()\n",
    "ob.fun3()"
   ]
  },
  {
   "cell_type": "code",
   "execution_count": 15,
   "metadata": {},
   "outputs": [
    {
     "name": "stdout",
     "output_type": "stream",
     "text": [
      "sai\n",
      "gowri\n"
     ]
    }
   ],
   "source": [
    "class Mother:\n",
    "    mothername = \"\"\n",
    "    def mother(self):\n",
    "        print(self.mothername)\n",
    "        \n",
    "class Son(Mother):\n",
    "    sonname = \"\"\n",
    "    def son(self):\n",
    "        print(self.sonname)\n",
    "        \n",
    "ob1 = Son()\n",
    "\n",
    "ob1.sonname = \"sai\"\n",
    "ob1.son()\n",
    "\n",
    "\n",
    "ob1.mothername=\"gowri\"\n",
    "ob1.mother()"
   ]
  },
  {
   "cell_type": "code",
   "execution_count": 17,
   "metadata": {},
   "outputs": [
    {
     "name": "stdout",
     "output_type": "stream",
     "text": [
      "child\n",
      "father grandfather\n",
      "father\n",
      "grandfather\n"
     ]
    }
   ],
   "source": [
    "# multilevel inheritance A --> B(A) --->C (B)\n",
    "class GrandFather:\n",
    "    gname = \"\"\n",
    "    def gfather(self):\n",
    "        print(self.gname)\n",
    "        \n",
    "class Father(GrandFather):\n",
    "    fname = \"\"\n",
    "    def father(self):\n",
    "        print(self.fname)\n",
    "        \n",
    "class Child(Father):\n",
    "    cname = \"\"\n",
    "    def child(self):\n",
    "        print(self.cname)\n",
    "        print(self.fname,self.gname)\n",
    "        \n",
    "b = Child()\n",
    "\n",
    "b.cname = \"child\"\n",
    "b.gname = \"grandfather\"\n",
    "b.fname=\"father\"\n",
    "\n",
    "b.child()\n",
    "b.father()\n",
    "b.gfather()"
   ]
  },
  {
   "cell_type": "code",
   "execution_count": 19,
   "metadata": {},
   "outputs": [
    {
     "name": "stdout",
     "output_type": "stream",
     "text": [
      "sita\n",
      "rama\n"
     ]
    }
   ],
   "source": [
    "# multiple inheritance -- A-->B-->C(A,B)\n",
    "class Mother:\n",
    "    mothername = \"\"\n",
    "    def mother(self):\n",
    "        print(self.mothername)\n",
    "        \n",
    "class Father:\n",
    "    fathername = \"\"\n",
    "    def father(self):\n",
    "        print(self.fathername)\n",
    "        \n",
    "class child(Mother,Father):\n",
    "    def child(self):\n",
    "        print(self.mothername)\n",
    "        print(self.fathername)\n",
    "        \n",
    "m = child()\n",
    "\n",
    "m.mothername = \"sita\"\n",
    "m.fathername = \"rama\"\n",
    "\n",
    "m.child()"
   ]
  },
  {
   "cell_type": "code",
   "execution_count": 21,
   "metadata": {},
   "outputs": [
    {
     "name": "stdout",
     "output_type": "stream",
     "text": [
      "this is parent class\n",
      "this is child1 class\n",
      "this is parent class\n",
      "this is child2 class\n"
     ]
    }
   ],
   "source": [
    "# hierachical inheritance - A --> B(A)\n",
    "#                             --> C(A)\n",
    "class Parent:\n",
    "    def function1(self):\n",
    "        print(\"this is parent class\")\n",
    "        \n",
    "class child1(Parent):\n",
    "    def function2(self):\n",
    "        print(\"this is child1 class\")\n",
    "        \n",
    "class Child2(Parent):\n",
    "    def function3(self):\n",
    "        print(\"this is child2 class\")\n",
    "                  \n",
    "ob1 = child1()\n",
    "ob1.function1()\n",
    "ob1.function2()\n",
    "\n",
    "ob2 = Child2()\n",
    "ob2.function1()\n",
    "ob2.function3()"
   ]
  },
  {
   "cell_type": "code",
   "execution_count": null,
   "metadata": {},
   "outputs": [],
   "source": [
    "# car\n",
    "- company\n",
    "    - name\n",
    "    - color\n",
    "    - gear type\n",
    "    - price(optional)\n",
    "    \n",
    "# vehicles\n",
    "- 2 wheelers\n",
    "- 3 wheelers\n",
    "- 4 wheelers\n",
    "# Properties - seating capacity, fuel type, name , (color,price)"
   ]
  }
 ],
 "metadata": {
  "kernelspec": {
   "display_name": "Python 3",
   "language": "python",
   "name": "python3"
  },
  "language_info": {
   "codemirror_mode": {
    "name": "ipython",
    "version": 3
   },
   "file_extension": ".py",
   "mimetype": "text/x-python",
   "name": "python",
   "nbconvert_exporter": "python",
   "pygments_lexer": "ipython3",
   "version": "3.7.1"
  }
 },
 "nbformat": 4,
 "nbformat_minor": 2
}
